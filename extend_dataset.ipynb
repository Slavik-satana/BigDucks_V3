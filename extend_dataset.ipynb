{
 "cells": [
  {
   "cell_type": "code",
   "id": "initial_id",
   "metadata": {
    "collapsed": true,
    "ExecuteTime": {
     "end_time": "2024-12-19T01:09:36.592274Z",
     "start_time": "2024-12-19T01:09:28.898990Z"
    }
   },
   "source": [
    "import pandas as pd\n",
    "\n",
    "df = pd.read_parquet(\"hf://datasets/seara/ru_go_emotions/raw/train-00000-of-00001-86de8ef1d0ae28df.parquet\")\n"
   ],
   "outputs": [],
   "execution_count": 1
  },
  {
   "metadata": {
    "ExecuteTime": {
     "end_time": "2024-12-19T01:11:38.527550Z",
     "start_time": "2024-12-19T01:11:38.525364Z"
    }
   },
   "cell_type": "code",
   "source": [
    "from collections import defaultdict\n",
    "import matplotlib.pyplot as plt\n",
    "class_labels = [\"anger\", \"disgust\", \"fear\", \"joy\", \"sadness\", \"surprise\", \"neutral\"]\n",
    "\n",
    "def plot_distribution(df, title):\n",
    "    counts = df[class_labels].sum()\n",
    "    counts.plot(kind='bar', figsize=(10, 6), title=title, rot=45)\n",
    "    plt.ylabel(\"Count\")\n",
    "    plt.show()\n",
    "\n",
    "\n",
    "# plot_histogram(data[\"train\"])\n"
   ],
   "id": "428357088dafd3f7",
   "outputs": [],
   "execution_count": 6
  },
  {
   "metadata": {
    "ExecuteTime": {
     "end_time": "2024-12-19T01:14:10.935301Z",
     "start_time": "2024-12-19T01:14:10.921659Z"
    }
   },
   "cell_type": "code",
   "source": "df.drop(['text', 'id', 'author', 'subreddit', 'link_id', 'parent_id', 'created_utc', 'rater_id', 'example_very_unclear'], axis=1, inplace=True)",
   "id": "39ebc56de11a6431",
   "outputs": [],
   "execution_count": 13
  },
  {
   "metadata": {
    "ExecuteTime": {
     "end_time": "2024-12-19T01:15:38.011464Z",
     "start_time": "2024-12-19T01:15:38.004234Z"
    }
   },
   "cell_type": "code",
   "source": "df = df[[\"ru_text\", \"anger\", \"disgust\", \"fear\", \"joy\", \"sadness\", \"surprise\", \"neutral\"]]",
   "id": "48a92d2dd686ffc5",
   "outputs": [],
   "execution_count": 18
  },
  {
   "metadata": {
    "ExecuteTime": {
     "end_time": "2024-12-19T01:22:07.385451Z",
     "start_time": "2024-12-19T01:22:07.378287Z"
    }
   },
   "cell_type": "code",
   "source": "df = df[~(df[class_labels] == 0).all(axis=1)]",
   "id": "69cc08862e047f05",
   "outputs": [],
   "execution_count": 31
  },
  {
   "metadata": {
    "ExecuteTime": {
     "end_time": "2024-12-19T01:22:09.368700Z",
     "start_time": "2024-12-19T01:22:09.331366Z"
    }
   },
   "cell_type": "code",
   "source": "df.drop_duplicates()",
   "id": "546778b593ae25e0",
   "outputs": [
    {
     "data": {
      "text/plain": [
       "                                                  ru_text  anger  disgust  \\\n",
       "0                            Эта игра причинила мне боль.      0        0   \n",
       "2       Ты правильно поступаешь, если тебе все равно, ...      0        0   \n",
       "4       [ИМЯ] не было рядом с ними, он был рядом с «Со...      0        0   \n",
       "10      Да, и теперь, когда вы упомянули об этом, я ду...      0        0   \n",
       "12                                         НО ЭТО ОНА! /с      0        0   \n",
       "...                                                   ...    ...      ...   \n",
       "211205  Я только что звонил в полицию Капитолия. На ни...      0        1   \n",
       "211209                                           АХ, ДА!!      0        0   \n",
       "211211  погуглить, потому что меня тогда еще не было в...      0        0   \n",
       "211213               Ух ты, она теперь хедлайнер двух шоу      0        0   \n",
       "211219  Что ж, я рад, что ты теперь свободен от всего ...      0        0   \n",
       "\n",
       "        fear  joy  sadness  surprise  neutral  \n",
       "0          0    0        1         0        0  \n",
       "2          0    0        0         0        1  \n",
       "4          0    0        0         0        1  \n",
       "10         0    0        0         0        1  \n",
       "12         0    0        0         0        1  \n",
       "...      ...  ...      ...       ...      ...  \n",
       "211205     0    0        0         0        0  \n",
       "211209     0    0        0         0        1  \n",
       "211211     0    0        0         0        1  \n",
       "211213     0    0        0         0        1  \n",
       "211219     0    1        0         0        0  \n",
       "\n",
       "[57007 rows x 8 columns]"
      ],
      "text/html": [
       "<div>\n",
       "<style scoped>\n",
       "    .dataframe tbody tr th:only-of-type {\n",
       "        vertical-align: middle;\n",
       "    }\n",
       "\n",
       "    .dataframe tbody tr th {\n",
       "        vertical-align: top;\n",
       "    }\n",
       "\n",
       "    .dataframe thead th {\n",
       "        text-align: right;\n",
       "    }\n",
       "</style>\n",
       "<table border=\"1\" class=\"dataframe\">\n",
       "  <thead>\n",
       "    <tr style=\"text-align: right;\">\n",
       "      <th></th>\n",
       "      <th>ru_text</th>\n",
       "      <th>anger</th>\n",
       "      <th>disgust</th>\n",
       "      <th>fear</th>\n",
       "      <th>joy</th>\n",
       "      <th>sadness</th>\n",
       "      <th>surprise</th>\n",
       "      <th>neutral</th>\n",
       "    </tr>\n",
       "  </thead>\n",
       "  <tbody>\n",
       "    <tr>\n",
       "      <th>0</th>\n",
       "      <td>Эта игра причинила мне боль.</td>\n",
       "      <td>0</td>\n",
       "      <td>0</td>\n",
       "      <td>0</td>\n",
       "      <td>0</td>\n",
       "      <td>1</td>\n",
       "      <td>0</td>\n",
       "      <td>0</td>\n",
       "    </tr>\n",
       "    <tr>\n",
       "      <th>2</th>\n",
       "      <td>Ты правильно поступаешь, если тебе все равно, ...</td>\n",
       "      <td>0</td>\n",
       "      <td>0</td>\n",
       "      <td>0</td>\n",
       "      <td>0</td>\n",
       "      <td>0</td>\n",
       "      <td>0</td>\n",
       "      <td>1</td>\n",
       "    </tr>\n",
       "    <tr>\n",
       "      <th>4</th>\n",
       "      <td>[ИМЯ] не было рядом с ними, он был рядом с «Со...</td>\n",
       "      <td>0</td>\n",
       "      <td>0</td>\n",
       "      <td>0</td>\n",
       "      <td>0</td>\n",
       "      <td>0</td>\n",
       "      <td>0</td>\n",
       "      <td>1</td>\n",
       "    </tr>\n",
       "    <tr>\n",
       "      <th>10</th>\n",
       "      <td>Да, и теперь, когда вы упомянули об этом, я ду...</td>\n",
       "      <td>0</td>\n",
       "      <td>0</td>\n",
       "      <td>0</td>\n",
       "      <td>0</td>\n",
       "      <td>0</td>\n",
       "      <td>0</td>\n",
       "      <td>1</td>\n",
       "    </tr>\n",
       "    <tr>\n",
       "      <th>12</th>\n",
       "      <td>НО ЭТО ОНА! /с</td>\n",
       "      <td>0</td>\n",
       "      <td>0</td>\n",
       "      <td>0</td>\n",
       "      <td>0</td>\n",
       "      <td>0</td>\n",
       "      <td>0</td>\n",
       "      <td>1</td>\n",
       "    </tr>\n",
       "    <tr>\n",
       "      <th>...</th>\n",
       "      <td>...</td>\n",
       "      <td>...</td>\n",
       "      <td>...</td>\n",
       "      <td>...</td>\n",
       "      <td>...</td>\n",
       "      <td>...</td>\n",
       "      <td>...</td>\n",
       "      <td>...</td>\n",
       "    </tr>\n",
       "    <tr>\n",
       "      <th>211205</th>\n",
       "      <td>Я только что звонил в полицию Капитолия. На ни...</td>\n",
       "      <td>0</td>\n",
       "      <td>1</td>\n",
       "      <td>0</td>\n",
       "      <td>0</td>\n",
       "      <td>0</td>\n",
       "      <td>0</td>\n",
       "      <td>0</td>\n",
       "    </tr>\n",
       "    <tr>\n",
       "      <th>211209</th>\n",
       "      <td>АХ, ДА!!</td>\n",
       "      <td>0</td>\n",
       "      <td>0</td>\n",
       "      <td>0</td>\n",
       "      <td>0</td>\n",
       "      <td>0</td>\n",
       "      <td>0</td>\n",
       "      <td>1</td>\n",
       "    </tr>\n",
       "    <tr>\n",
       "      <th>211211</th>\n",
       "      <td>погуглить, потому что меня тогда еще не было в...</td>\n",
       "      <td>0</td>\n",
       "      <td>0</td>\n",
       "      <td>0</td>\n",
       "      <td>0</td>\n",
       "      <td>0</td>\n",
       "      <td>0</td>\n",
       "      <td>1</td>\n",
       "    </tr>\n",
       "    <tr>\n",
       "      <th>211213</th>\n",
       "      <td>Ух ты, она теперь хедлайнер двух шоу</td>\n",
       "      <td>0</td>\n",
       "      <td>0</td>\n",
       "      <td>0</td>\n",
       "      <td>0</td>\n",
       "      <td>0</td>\n",
       "      <td>0</td>\n",
       "      <td>1</td>\n",
       "    </tr>\n",
       "    <tr>\n",
       "      <th>211219</th>\n",
       "      <td>Что ж, я рад, что ты теперь свободен от всего ...</td>\n",
       "      <td>0</td>\n",
       "      <td>0</td>\n",
       "      <td>0</td>\n",
       "      <td>1</td>\n",
       "      <td>0</td>\n",
       "      <td>0</td>\n",
       "      <td>0</td>\n",
       "    </tr>\n",
       "  </tbody>\n",
       "</table>\n",
       "<p>57007 rows × 8 columns</p>\n",
       "</div>"
      ]
     },
     "execution_count": 32,
     "metadata": {},
     "output_type": "execute_result"
    }
   ],
   "execution_count": 32
  },
  {
   "metadata": {
    "ExecuteTime": {
     "end_time": "2024-12-19T01:22:25.731165Z",
     "start_time": "2024-12-19T01:22:25.642602Z"
    }
   },
   "cell_type": "code",
   "source": "plot_distribution(df.drop_duplicates(), title=\"Distribution of Emotions\")",
   "id": "7dbb7ccb60e7f1b6",
   "outputs": [
    {
     "data": {
      "text/plain": [
       "<Figure size 1000x600 with 1 Axes>"
      ],
      "image/png": "[encoded data removed]"
     },
     "metadata": {},
     "output_type": "display_data"
    }
   ],
   "execution_count": 34
  },
  {
   "metadata": {
    "ExecuteTime": {
     "end_time": "2024-12-19T01:37:56.209883Z",
     "start_time": "2024-12-19T01:37:56.206058Z"
    }
   },
   "cell_type": "code",
   "source": "filtered = df[~((df['joy'] == 1) | (df['neutral'] == 1))]",
   "id": "fca4c34fc503abf0",
   "outputs": [],
   "execution_count": 43
  },
  {
   "metadata": {
    "ExecuteTime": {
     "end_time": "2024-12-19T01:37:57.504539Z",
     "start_time": "2024-12-19T01:37:57.450514Z"
    }
   },
   "cell_type": "code",
   "source": "plot_distribution(filtered, title=\"Distribution of Emotions\")",
   "id": "fd1fd0355c5e10f5",
   "outputs": [
    {
     "data": {
      "text/plain": [
       "<Figure size 1000x600 with 1 Axes>"
      ],
      "image/png": "[encoded data removed]"
     },
     "metadata": {},
     "output_type": "display_data"
    }
   ],
   "execution_count": 44
  },
  {
   "metadata": {
    "ExecuteTime": {
     "end_time": "2024-12-19T01:39:32.442229Z",
     "start_time": "2024-12-19T01:39:32.356069Z"
    }
   },
   "cell_type": "code",
   "source": [
    "train = pd.read_csv('data/train.csv')\n",
    "train"
   ],
   "id": "655f84a5f8a20231",
   "outputs": [
    {
     "data": {
      "text/plain": [
       "                                                    text  anger  disgust  \\\n",
       "0      Моя любимая еда — это все, что мне не приходил...      0        0   \n",
       "1      Теперь, если он покончит с собой, все будут ду...      0        0   \n",
       "2                    КАКОГО НАХРАНА БЭЙЛЕССКАЯ ИЗОИНЦИЯ?      1        0   \n",
       "3                         Чтобы она почувствовала угрозу      0        0   \n",
       "4                                 Грязные южные дрочники      1        0   \n",
       "...                                                  ...    ...      ...   \n",
       "43405  Добавил, приятель, у меня только что появился ...      0        0   \n",
       "43406  Всегда думал, что это смешно, но является ли э...      0        0   \n",
       "43407  О чем ты говоришь? Во всем плохом, что произош...      1        0   \n",
       "43408  Больше похоже на крещение, с сексуальными резу...      0        0   \n",
       "43409                              Насладиться поездкой!      0        0   \n",
       "\n",
       "       fear  joy  sadness  surprise  neutral  \n",
       "0         0    0        0         0        1  \n",
       "1         0    0        0         0        1  \n",
       "2         0    0        0         0        0  \n",
       "3         1    0        0         0        0  \n",
       "4         0    0        0         0        0  \n",
       "...     ...  ...      ...       ...      ...  \n",
       "43405     0    1        0         0        0  \n",
       "43406     0    0        0         1        0  \n",
       "43407     0    0        0         0        0  \n",
       "43408     0    1        0         0        0  \n",
       "43409     0    1        0         0        0  \n",
       "\n",
       "[43410 rows x 8 columns]"
      ],
      "text/html": [
       "<div>\n",
       "<style scoped>\n",
       "    .dataframe tbody tr th:only-of-type {\n",
       "        vertical-align: middle;\n",
       "    }\n",
       "\n",
       "    .dataframe tbody tr th {\n",
       "        vertical-align: top;\n",
       "    }\n",
       "\n",
       "    .dataframe thead th {\n",
       "        text-align: right;\n",
       "    }\n",
       "</style>\n",
       "<table border=\"1\" class=\"dataframe\">\n",
       "  <thead>\n",
       "    <tr style=\"text-align: right;\">\n",
       "      <th></th>\n",
       "      <th>text</th>\n",
       "      <th>anger</th>\n",
       "      <th>disgust</th>\n",
       "      <th>fear</th>\n",
       "      <th>joy</th>\n",
       "      <th>sadness</th>\n",
       "      <th>surprise</th>\n",
       "      <th>neutral</th>\n",
       "    </tr>\n",
       "  </thead>\n",
       "  <tbody>\n",
       "    <tr>\n",
       "      <th>0</th>\n",
       "      <td>Моя любимая еда — это все, что мне не приходил...</td>\n",
       "      <td>0</td>\n",
       "      <td>0</td>\n",
       "      <td>0</td>\n",
       "      <td>0</td>\n",
       "      <td>0</td>\n",
       "      <td>0</td>\n",
       "      <td>1</td>\n",
       "    </tr>\n",
       "    <tr>\n",
       "      <th>1</th>\n",
       "      <td>Теперь, если он покончит с собой, все будут ду...</td>\n",
       "      <td>0</td>\n",
       "      <td>0</td>\n",
       "      <td>0</td>\n",
       "      <td>0</td>\n",
       "      <td>0</td>\n",
       "      <td>0</td>\n",
       "      <td>1</td>\n",
       "    </tr>\n",
       "    <tr>\n",
       "      <th>2</th>\n",
       "      <td>КАКОГО НАХРАНА БЭЙЛЕССКАЯ ИЗОИНЦИЯ?</td>\n",
       "      <td>1</td>\n",
       "      <td>0</td>\n",
       "      <td>0</td>\n",
       "      <td>0</td>\n",
       "      <td>0</td>\n",
       "      <td>0</td>\n",
       "      <td>0</td>\n",
       "    </tr>\n",
       "    <tr>\n",
       "      <th>3</th>\n",
       "      <td>Чтобы она почувствовала угрозу</td>\n",
       "      <td>0</td>\n",
       "      <td>0</td>\n",
       "      <td>1</td>\n",
       "      <td>0</td>\n",
       "      <td>0</td>\n",
       "      <td>0</td>\n",
       "      <td>0</td>\n",
       "    </tr>\n",
       "    <tr>\n",
       "      <th>4</th>\n",
       "      <td>Грязные южные дрочники</td>\n",
       "      <td>1</td>\n",
       "      <td>0</td>\n",
       "      <td>0</td>\n",
       "      <td>0</td>\n",
       "      <td>0</td>\n",
       "      <td>0</td>\n",
       "      <td>0</td>\n",
       "    </tr>\n",
       "    <tr>\n",
       "      <th>...</th>\n",
       "      <td>...</td>\n",
       "      <td>...</td>\n",
       "      <td>...</td>\n",
       "      <td>...</td>\n",
       "      <td>...</td>\n",
       "      <td>...</td>\n",
       "      <td>...</td>\n",
       "      <td>...</td>\n",
       "    </tr>\n",
       "    <tr>\n",
       "      <th>43405</th>\n",
       "      <td>Добавил, приятель, у меня только что появился ...</td>\n",
       "      <td>0</td>\n",
       "      <td>0</td>\n",
       "      <td>0</td>\n",
       "      <td>1</td>\n",
       "      <td>0</td>\n",
       "      <td>0</td>\n",
       "      <td>0</td>\n",
       "    </tr>\n",
       "    <tr>\n",
       "      <th>43406</th>\n",
       "      <td>Всегда думал, что это смешно, но является ли э...</td>\n",
       "      <td>0</td>\n",
       "      <td>0</td>\n",
       "      <td>0</td>\n",
       "      <td>0</td>\n",
       "      <td>0</td>\n",
       "      <td>1</td>\n",
       "      <td>0</td>\n",
       "    </tr>\n",
       "    <tr>\n",
       "      <th>43407</th>\n",
       "      <td>О чем ты говоришь? Во всем плохом, что произош...</td>\n",
       "      <td>1</td>\n",
       "      <td>0</td>\n",
       "      <td>0</td>\n",
       "      <td>0</td>\n",
       "      <td>0</td>\n",
       "      <td>0</td>\n",
       "      <td>0</td>\n",
       "    </tr>\n",
       "    <tr>\n",
       "      <th>43408</th>\n",
       "      <td>Больше похоже на крещение, с сексуальными резу...</td>\n",
       "      <td>0</td>\n",
       "      <td>0</td>\n",
       "      <td>0</td>\n",
       "      <td>1</td>\n",
       "      <td>0</td>\n",
       "      <td>0</td>\n",
       "      <td>0</td>\n",
       "    </tr>\n",
       "    <tr>\n",
       "      <th>43409</th>\n",
       "      <td>Насладиться поездкой!</td>\n",
       "      <td>0</td>\n",
       "      <td>0</td>\n",
       "      <td>0</td>\n",
       "      <td>1</td>\n",
       "      <td>0</td>\n",
       "      <td>0</td>\n",
       "      <td>0</td>\n",
       "    </tr>\n",
       "  </tbody>\n",
       "</table>\n",
       "<p>43410 rows × 8 columns</p>\n",
       "</div>"
      ]
     },
     "execution_count": 45,
     "metadata": {},
     "output_type": "execute_result"
    }
   ],
   "execution_count": 45
  },
  {
   "metadata": {
    "ExecuteTime": {
     "end_time": "2024-12-19T01:40:01.547925Z",
     "start_time": "2024-12-19T01:40:01.544416Z"
    }
   },
   "cell_type": "code",
   "source": "filtered.rename(columns={'ru_text': 'text'}, inplace=True)",
   "id": "93e30060dab8d3cd",
   "outputs": [
    {
     "name": "stderr",
     "output_type": "stream",
     "text": [
      "C:\\Users\\Grishin\\AppData\\Local\\Temp\\ipykernel_21024\\628074895.py:1: SettingWithCopyWarning: \n",
      "A value is trying to be set on a copy of a slice from a DataFrame\n",
      "\n",
      "See the caveats in the documentation: https://pandas.pydata.org/pandas-docs/stable/user_guide/indexing.html#returning-a-view-versus-a-copy\n",
      "  filtered.rename(columns={'ru_text': 'text'}, inplace=True)\n"
     ]
    }
   ],
   "execution_count": 47
  },
  {
   "metadata": {
    "ExecuteTime": {
     "end_time": "2024-12-19T01:40:34.106849Z",
     "start_time": "2024-12-19T01:40:34.103401Z"
    }
   },
   "cell_type": "code",
   "source": "result = pd.concat([train, filtered], ignore_index=True)",
   "id": "cf77bfed6f59fb5c",
   "outputs": [],
   "execution_count": 49
  },
  {
   "metadata": {
    "ExecuteTime": {
     "end_time": "2024-12-19T01:41:13.007791Z",
     "start_time": "2024-12-19T01:41:12.877031Z"
    }
   },
   "cell_type": "code",
   "source": "result.drop_duplicates().to_csv('data/train_extended.csv', index=False)",
   "id": "ba951a5e6d000949",
   "outputs": [],
   "execution_count": 52
  },
  {
   "metadata": {
    "ExecuteTime": {
     "end_time": "2024-12-19T01:41:27.018877Z",
     "start_time": "2024-12-19T01:41:26.937394Z"
    }
   },
   "cell_type": "code",
   "source": "plot_distribution(result.drop_duplicates(), title=\"Distribution of Emotions\")",
   "id": "13be1c99a0b952d",
   "outputs": [
    {
     "data": {
      "text/plain": [
       "<Figure size 1000x600 with 1 Axes>"
      ],
      "image/png": "[encoded data removed]"
     },
     "metadata": {},
     "output_type": "display_data"
    }
   ],
   "execution_count": 53
  }
 ],
 "metadata": {
  "kernelspec": {
   "display_name": "Python 3",
   "language": "python",
   "name": "python3"
  },
  "language_info": {
   "codemirror_mode": {
    "name": "ipython",
    "version": 2
   },
   "file_extension": ".py",
   "mimetype": "text/x-python",
   "name": "python",
   "nbconvert_exporter": "python",
   "pygments_lexer": "ipython2",
   "version": "2.7.6"
  }
 },
 "nbformat": 4,
 "nbformat_minor": 5
}
